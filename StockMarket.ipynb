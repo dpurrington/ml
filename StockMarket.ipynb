{
 "cells": [
  {
   "cell_type": "code",
   "execution_count": 1,
   "metadata": {},
   "outputs": [
    {
     "name": "stdout",
     "output_type": "stream",
     "text": [
      "https://www.kaggle.com/borismarjanovic/price-volume-data-for-all-us-stocks-etfs/downloads/Data.zip/3\n"
     ]
    }
   ],
   "source": [
    "from stock_data import *"
   ]
  },
  {
   "cell_type": "code",
   "execution_count": 2,
   "metadata": {},
   "outputs": [],
   "source": [
    "stock_data=load_data()"
   ]
  },
  {
   "cell_type": "code",
   "execution_count": 3,
   "metadata": {},
   "outputs": [
    {
     "name": "stdout",
     "output_type": "stream",
     "text": [
      "<class 'pandas.core.frame.DataFrame'>\n",
      "RangeIndex: 3051 entries, 0 to 3050\n",
      "Data columns (total 7 columns):\n",
      "Date       3051 non-null object\n",
      "Open       3051 non-null float64\n",
      "High       3051 non-null float64\n",
      "Low        3051 non-null float64\n",
      "Close      3051 non-null float64\n",
      "Volume     3051 non-null int64\n",
      "OpenInt    3051 non-null int64\n",
      "dtypes: float64(4), int64(2), object(1)\n",
      "memory usage: 166.9+ KB\n"
     ]
    }
   ],
   "source": [
    "stock_data.info()"
   ]
  },
  {
   "cell_type": "code",
   "execution_count": 11,
   "metadata": {},
   "outputs": [
    {
     "data": {
      "text/html": [
       "<div>\n",
       "<style scoped>\n",
       "    .dataframe tbody tr th:only-of-type {\n",
       "        vertical-align: middle;\n",
       "    }\n",
       "\n",
       "    .dataframe tbody tr th {\n",
       "        vertical-align: top;\n",
       "    }\n",
       "\n",
       "    .dataframe thead th {\n",
       "        text-align: right;\n",
       "    }\n",
       "</style>\n",
       "<table border=\"1\" class=\"dataframe\">\n",
       "  <thead>\n",
       "    <tr style=\"text-align: right;\">\n",
       "      <th></th>\n",
       "      <th>Date</th>\n",
       "      <th>Open</th>\n",
       "      <th>High</th>\n",
       "      <th>Low</th>\n",
       "      <th>Close</th>\n",
       "      <th>Volume</th>\n",
       "      <th>OpenInt</th>\n",
       "    </tr>\n",
       "  </thead>\n",
       "  <tbody>\n",
       "    <tr>\n",
       "      <th>3046</th>\n",
       "      <td>2017-11-06</td>\n",
       "      <td>118.50</td>\n",
       "      <td>119.830</td>\n",
       "      <td>114.55</td>\n",
       "      <td>118.845</td>\n",
       "      <td>473546</td>\n",
       "      <td>0</td>\n",
       "    </tr>\n",
       "    <tr>\n",
       "      <th>3047</th>\n",
       "      <td>2017-11-07</td>\n",
       "      <td>119.07</td>\n",
       "      <td>119.070</td>\n",
       "      <td>117.78</td>\n",
       "      <td>119.000</td>\n",
       "      <td>155039</td>\n",
       "      <td>0</td>\n",
       "    </tr>\n",
       "    <tr>\n",
       "      <th>3048</th>\n",
       "      <td>2017-11-08</td>\n",
       "      <td>118.43</td>\n",
       "      <td>119.500</td>\n",
       "      <td>117.96</td>\n",
       "      <td>118.970</td>\n",
       "      <td>183030</td>\n",
       "      <td>0</td>\n",
       "    </tr>\n",
       "    <tr>\n",
       "      <th>3049</th>\n",
       "      <td>2017-11-09</td>\n",
       "      <td>117.99</td>\n",
       "      <td>118.790</td>\n",
       "      <td>116.73</td>\n",
       "      <td>118.640</td>\n",
       "      <td>115412</td>\n",
       "      <td>0</td>\n",
       "    </tr>\n",
       "    <tr>\n",
       "      <th>3050</th>\n",
       "      <td>2017-11-10</td>\n",
       "      <td>118.43</td>\n",
       "      <td>119.765</td>\n",
       "      <td>117.88</td>\n",
       "      <td>119.160</td>\n",
       "      <td>185588</td>\n",
       "      <td>0</td>\n",
       "    </tr>\n",
       "  </tbody>\n",
       "</table>\n",
       "</div>"
      ],
      "text/plain": [
       "            Date    Open     High     Low    Close  Volume  OpenInt\n",
       "3046  2017-11-06  118.50  119.830  114.55  118.845  473546        0\n",
       "3047  2017-11-07  119.07  119.070  117.78  119.000  155039        0\n",
       "3048  2017-11-08  118.43  119.500  117.96  118.970  183030        0\n",
       "3049  2017-11-09  117.99  118.790  116.73  118.640  115412        0\n",
       "3050  2017-11-10  118.43  119.765  117.88  119.160  185588        0"
      ]
     },
     "execution_count": 11,
     "metadata": {},
     "output_type": "execute_result"
    }
   ],
   "source": [
    "import pandas as pd\n",
    "stock_data.tail(5)"
   ]
  },
  {
   "cell_type": "code",
   "execution_count": 14,
   "metadata": {},
   "outputs": [
    {
     "data": {
      "text/html": [
       "<div>\n",
       "<style scoped>\n",
       "    .dataframe tbody tr th:only-of-type {\n",
       "        vertical-align: middle;\n",
       "    }\n",
       "\n",
       "    .dataframe tbody tr th {\n",
       "        vertical-align: top;\n",
       "    }\n",
       "\n",
       "    .dataframe thead th {\n",
       "        text-align: right;\n",
       "    }\n",
       "</style>\n",
       "<table border=\"1\" class=\"dataframe\">\n",
       "  <thead>\n",
       "    <tr style=\"text-align: right;\">\n",
       "      <th></th>\n",
       "      <th>Open</th>\n",
       "      <th>High</th>\n",
       "      <th>Low</th>\n",
       "      <th>Close</th>\n",
       "      <th>Volume</th>\n",
       "    </tr>\n",
       "  </thead>\n",
       "  <tbody>\n",
       "    <tr>\n",
       "      <th>count</th>\n",
       "      <td>3051.000000</td>\n",
       "      <td>3051.000000</td>\n",
       "      <td>3051.000000</td>\n",
       "      <td>3051.000000</td>\n",
       "      <td>3.051000e+03</td>\n",
       "    </tr>\n",
       "    <tr>\n",
       "      <th>mean</th>\n",
       "      <td>50.587254</td>\n",
       "      <td>51.460769</td>\n",
       "      <td>49.766003</td>\n",
       "      <td>50.632922</td>\n",
       "      <td>5.026282e+05</td>\n",
       "    </tr>\n",
       "    <tr>\n",
       "      <th>std</th>\n",
       "      <td>23.254400</td>\n",
       "      <td>23.489839</td>\n",
       "      <td>23.039267</td>\n",
       "      <td>23.286239</td>\n",
       "      <td>6.794973e+05</td>\n",
       "    </tr>\n",
       "    <tr>\n",
       "      <th>min</th>\n",
       "      <td>12.000000</td>\n",
       "      <td>12.000000</td>\n",
       "      <td>11.750000</td>\n",
       "      <td>11.960000</td>\n",
       "      <td>0.000000e+00</td>\n",
       "    </tr>\n",
       "    <tr>\n",
       "      <th>25%</th>\n",
       "      <td>33.275000</td>\n",
       "      <td>34.030000</td>\n",
       "      <td>32.640000</td>\n",
       "      <td>33.280000</td>\n",
       "      <td>1.995260e+05</td>\n",
       "    </tr>\n",
       "    <tr>\n",
       "      <th>50%</th>\n",
       "      <td>42.360000</td>\n",
       "      <td>43.200000</td>\n",
       "      <td>41.600000</td>\n",
       "      <td>42.500000</td>\n",
       "      <td>3.452020e+05</td>\n",
       "    </tr>\n",
       "    <tr>\n",
       "      <th>75%</th>\n",
       "      <td>64.185000</td>\n",
       "      <td>65.695000</td>\n",
       "      <td>62.705000</td>\n",
       "      <td>64.290000</td>\n",
       "      <td>6.142945e+05</td>\n",
       "    </tr>\n",
       "    <tr>\n",
       "      <th>max</th>\n",
       "      <td>119.070000</td>\n",
       "      <td>121.060000</td>\n",
       "      <td>117.960000</td>\n",
       "      <td>119.160000</td>\n",
       "      <td>2.073596e+07</td>\n",
       "    </tr>\n",
       "  </tbody>\n",
       "</table>\n",
       "</div>"
      ],
      "text/plain": [
       "              Open         High          Low        Close        Volume\n",
       "count  3051.000000  3051.000000  3051.000000  3051.000000  3.051000e+03\n",
       "mean     50.587254    51.460769    49.766003    50.632922  5.026282e+05\n",
       "std      23.254400    23.489839    23.039267    23.286239  6.794973e+05\n",
       "min      12.000000    12.000000    11.750000    11.960000  0.000000e+00\n",
       "25%      33.275000    34.030000    32.640000    33.280000  1.995260e+05\n",
       "50%      42.360000    43.200000    41.600000    42.500000  3.452020e+05\n",
       "75%      64.185000    65.695000    62.705000    64.290000  6.142945e+05\n",
       "max     119.070000   121.060000   117.960000   119.160000  2.073596e+07"
      ]
     },
     "execution_count": 14,
     "metadata": {},
     "output_type": "execute_result"
    }
   ],
   "source": [
    "stock_data.describe()"
   ]
  },
  {
   "cell_type": "code",
   "execution_count": 13,
   "metadata": {},
   "outputs": [],
   "source": [
    "stock_data = stock_data.drop('OpenInt', 1)"
   ]
  },
  {
   "cell_type": "code",
   "execution_count": 16,
   "metadata": {},
   "outputs": [
    {
     "data": {
      "image/png": "[encoded data removed]",
      "text/plain": [
       "<matplotlib.figure.Figure at 0x10f0a2ac8>"
      ]
     },
     "metadata": {},
     "output_type": "display_data"
    }
   ],
   "source": [
    "%matplotlib inline\n",
    "import matplotlib.pyplot as plt\n",
    "stock_data.hist(bins=50, figsize=(20,15))\n",
    "plt.show()"
   ]
  },
  {
   "cell_type": "code",
   "execution_count": 17,
   "metadata": {},
   "outputs": [
    {
     "name": "stdout",
     "output_type": "stream",
     "text": [
      "2440 train + 611 test\n"
     ]
    }
   ],
   "source": [
    "from sklearn.model_selection import train_test_split\n",
    "train_set, test_set = train_test_split(stock_data, test_size=0.2, random_state=42)\n",
    "print(len(train_set), \"train +\", len(test_set), \"test\" )"
   ]
  },
  {
   "cell_type": "code",
   "execution_count": null,
   "metadata": {},
   "outputs": [],
   "source": []
  }
 ],
 "metadata": {
  "kernelspec": {
   "display_name": "Python 3",
   "language": "python",
   "name": "python3"
  },
  "language_info": {
   "codemirror_mode": {
    "name": "ipython",
    "version": 3
   },
   "file_extension": ".py",
   "mimetype": "text/x-python",
   "name": "python",
   "nbconvert_exporter": "python",
   "pygments_lexer": "ipython3",
   "version": "3.6.4"
  }
 },
 "nbformat": 4,
 "nbformat_minor": 2
}
